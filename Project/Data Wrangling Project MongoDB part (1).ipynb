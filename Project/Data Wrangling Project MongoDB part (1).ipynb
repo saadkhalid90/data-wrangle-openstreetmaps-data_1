{
 "cells": [
  {
   "cell_type": "code",
   "execution_count": 37,
   "metadata": {
    "collapsed": true
   },
   "outputs": [],
   "source": [
    "import os\n",
    "import pprint\n",
    "from pymongo import MongoClient\n",
    "\n",
    "filepath = \"C:/Users/Saad Khalid/Downloads/islamabad_pakistan.osm\""
   ]
  },
  {
   "cell_type": "code",
   "execution_count": 38,
   "metadata": {
    "collapsed": false
   },
   "outputs": [],
   "source": [
    "run shape_data.py"
   ]
  },
  {
   "cell_type": "code",
   "execution_count": 39,
   "metadata": {
    "collapsed": false
   },
   "outputs": [],
   "source": [
    "## ===Takes time to process===\n",
    "data = process_map(filepath, True)\n",
    "## ===Now Upload the json file onto the database==="
   ]
  },
  {
   "cell_type": "code",
   "execution_count": 40,
   "metadata": {
    "collapsed": false
   },
   "outputs": [
    {
     "name": "stdout",
     "output_type": "stream",
     "text": [
      "Nunmber of documents: 344057\n"
     ]
    }
   ],
   "source": [
    "print \"Nunmber of documents:\",len(data)"
   ]
  },
  {
   "cell_type": "code",
   "execution_count": 41,
   "metadata": {
    "collapsed": true
   },
   "outputs": [],
   "source": [
    "## to print the desired number of documents from a pymongo cusrsor obtained through querying\n",
    "## entries = 0 or entries = \"all\", the function prints all documents\n",
    "def print_aggregation(aggregation, entries):  \n",
    "    if entries == 0 or entries == \"all\":\n",
    "        for i in aggregation:\n",
    "            pprint.pprint(i)\n",
    "    elif entries > 0:\n",
    "        count = 0\n",
    "        for i in aggregation:\n",
    "            pprint.pprint(i)\n",
    "            count += 1\n",
    "            if count == entries:\n",
    "                break\n",
    "    else:\n",
    "        print \"Invalid entries number\""
   ]
  },
  {
   "cell_type": "code",
   "execution_count": 45,
   "metadata": {
    "collapsed": false
   },
   "outputs": [
    {
     "name": "stdout",
     "output_type": "stream",
     "text": [
      "{u'_id': u'girgit', u'count': 57825}\n",
      "{u'_id': u'MMDawood', u'count': 41203}\n",
      "{u'_id': u'dcguj', u'count': 26631}\n",
      "{u'_id': u'shaji', u'count': 23391}\n",
      "{u'_id': u'Mateen Bhatti', u'count': 22802}\n"
     ]
    }
   ],
   "source": [
    "## finding most contributions by users\n",
    "client = MongoClient('localhost:27017')\n",
    "db = client.cities\n",
    "\n",
    "user = db.islamabad.aggregate([{\"$group\" : {\"_id\" : \"$created.user\", \"count\" : {\"$sum\" : 1}}},\n",
    "                               {\"$sort\" : {\"count\" : -1}}])\n",
    "\n",
    "print_aggregation(user,5)"
   ]
  },
  {
   "cell_type": "code",
   "execution_count": 46,
   "metadata": {
    "collapsed": false
   },
   "outputs": [
    {
     "name": "stdout",
     "output_type": "stream",
     "text": [
      "{u'_id': None, u'count': 341480}\n",
      "{u'_id': u'fuel', u'count': 498}\n",
      "{u'_id': u'place_of_worship', u'count': 354}\n",
      "{u'_id': u'school', u'count': 311}\n",
      "{u'_id': u'parking', u'count': 243}\n"
     ]
    }
   ],
   "source": [
    "## Listing the top amenities:\n",
    "amenities = db.islamabad.aggregate([{\"$group\" : {\"_id\" : \"$amenity\", \"count\" : {\"$sum\" : 1}}},\n",
    "                               {\"$sort\" : {\"count\" : -1}}])\n",
    "print_aggregation(amenities,5)"
   ]
  },
  {
   "cell_type": "code",
   "execution_count": 47,
   "metadata": {
    "collapsed": false
   },
   "outputs": [
    {
     "name": "stdout",
     "output_type": "stream",
     "text": [
      "{u'_id': ObjectId('5547d7badeaeaa0452cc85f1'), u'name': u'The Hot Spot'}\n",
      "{u'_id': ObjectId('5547d7badeaeaa0452cc85f3'), u'name': u'The Gelato Affair'}\n",
      "{u'_id': ObjectId('5547d7badeaeaa0452cc85f4'), u'name': u'The Hot Spot Cafe'}\n",
      "{u'_id': ObjectId('5547d7badeaeaa0452cc85fe'), u'name': u'Civil Junction'}\n",
      "{u'_id': ObjectId('5547d7badeaeaa0452ccc772'),\n",
      " u'name': u\"Officer's Club (Marriage Hall)\"}\n"
     ]
    }
   ],
   "source": [
    "## Listing a few cafes found in Islamabad\n",
    "cafes = db.islamabad.find({\"amenity\":\"cafe\"}, {\"name\" : True})\n",
    "print_aggregation(cafes,5)"
   ]
  },
  {
   "cell_type": "code",
   "execution_count": 48,
   "metadata": {
    "collapsed": false
   },
   "outputs": [
    {
     "name": "stdout",
     "output_type": "stream",
     "text": [
      "{u'_id': ObjectId('5547d7b9deaeaa0452cc3c0b'),\n",
      " u'name': u'Islamabad College for Girls'}\n",
      "{u'_id': ObjectId('5547d7b9deaeaa0452cc61b8'),\n",
      " u'name': u'FG Boys Model School'}\n",
      "{u'_id': ObjectId('5547d7b9deaeaa0452cc7eeb')}\n",
      "{u'_id': ObjectId('5547d7b9deaeaa0452cc7fc0'),\n",
      " u'name': u'FG Junior Model School'}\n",
      "{u'_id': ObjectId('5547d7b9deaeaa0452cc7fc1'),\n",
      " u'name': u'F.G Model School No. 36 G-9/2'}\n"
     ]
    }
   ],
   "source": [
    "## Listing a few schools found in Islamabad\n",
    "cafes = db.islamabad.find({\"amenity\":\"school\"}, {\"name\" : True})\n",
    "print_aggregation(cafes,5)"
   ]
  },
  {
   "cell_type": "code",
   "execution_count": 49,
   "metadata": {
    "collapsed": false
   },
   "outputs": [
    {
     "name": "stdout",
     "output_type": "stream",
     "text": [
      "{u'_id': ObjectId('5547d7bcdeaeaa0452cd685f'), u'phone': u'+92-51-2851267'}\n",
      "{u'_id': ObjectId('5547d7bcdeaeaa0452cd68c7'), u'phone': u'+92-51-8319000'}\n",
      "{u'_id': ObjectId('5547d7bcdeaeaa0452cd74ec'), u'phone': u'+92-51-2852024'}\n",
      "{u'_id': ObjectId('5547d7bddeaeaa0452cdee93'), u'phone': u'+92-51-2872639'}\n",
      "{u'_id': ObjectId('5547d7bddeaeaa0452cdefd1'),\n",
      " u'phone': [u'+92-51-4438559', u'+92-51-5839323']}\n",
      "{u'_id': ObjectId('5547d7bddeaeaa0452cdf5d4'), u'phone': u'+92-300-5205536'}\n",
      "{u'_id': ObjectId('5547d7bddeaeaa0452cdfc32'), u'phone': u'+92-51-2820304'}\n",
      "{u'_id': ObjectId('5547d7bddeaeaa0452cdffcb'), u'phone': u'+92-51-2650953'}\n",
      "{u'_id': ObjectId('5547d7bddeaeaa0452cdffce'), u'phone': u'+92-51-2609301'}\n",
      "{u'_id': ObjectId('5547d7bddeaeaa0452cdffd1'), u'phone': u'+92-51-8445544'}\n",
      "{u'_id': ObjectId('5547d7bddeaeaa0452ce2304'), u'phone': u'+92-51-111901901'}\n",
      "{u'_id': ObjectId('5547d7bddeaeaa0452ce2531'), u'phone': u'+92-51-2277117'}\n",
      "{u'_id': ObjectId('5547d7bddeaeaa0452ce6ee0'), u'phone': u'+92-51-2580479'}\n",
      "{u'_id': ObjectId('5547d7bedeaeaa0452ce8d64'),\n",
      " u'phone': [u'+92-51-8313200', u'+92-51-5766380', u'+92-51-5590063']}\n",
      "{u'_id': ObjectId('5547d7bfdeaeaa0452cf4894'), u'phone': u'+92-333-4861232'}\n",
      "{u'_id': ObjectId('5547d7bfdeaeaa0452cf489a'), u'phone': u'+92-333-4861234'}\n",
      "{u'_id': ObjectId('5547d7c0deaeaa0452cfa025'), u'phone': u'+92-51-5738430'}\n",
      "{u'_id': ObjectId('5547d7c0deaeaa0452cfb955'), u'phone': u'+92-51-5500077'}\n",
      "{u'_id': ObjectId('5547d7c0deaeaa0452cfd3f8'), u'phone': u'+92-51-2821093'}\n",
      "{u'_id': ObjectId('5547d7c0deaeaa0452cfd437'), u'phone': u'+92-51-2271545'}\n",
      "{u'_id': ObjectId('5547d7c0deaeaa0452cfd43c'), u'phone': u'+92-51-2278896'}\n",
      "{u'_id': ObjectId('5547d7c0deaeaa0452cfd446'), u'phone': u'+92-51-8438085'}\n",
      "{u'_id': ObjectId('5547d7c0deaeaa0452cfe61c'), u'phone': u'+92-51-2872639'}\n",
      "{u'_id': ObjectId('5547d7c0deaeaa0452cfea3f'), u'phone': u'+92-544-710722'}\n",
      "{u'_id': ObjectId('5547d7c0deaeaa0452d009d8'), u'phone': u'+92-336-5060655'}\n",
      "{u'_id': ObjectId('5547d7c1deaeaa0452d0562c'), u'phone': u'+92-992-332721'}\n",
      "{u'_id': ObjectId('5547d7c1deaeaa0452d0562d'), u'phone': u'+92-992-330376'}\n",
      "{u'_id': ObjectId('5547d7c1deaeaa0452d0b7b7'), u'phone': u'+92-57-2703577'}\n",
      "{u'_id': ObjectId('5547d7c2deaeaa0452d0b7d3'), u'phone': u'+92-322-5010051'}\n",
      "{u'_id': ObjectId('5547d7c2deaeaa0452d0d2ba'), u'phone': u'+92-51-2104054'}\n",
      "{u'_id': ObjectId('5547d7c2deaeaa0452d0fd5b'), u'phone': u'+92-51-2203064'}\n",
      "{u'_id': ObjectId('5547d7c3deaeaa0452d121cd'), u'phone': u'+92-51-335570034'}\n",
      "{u'_id': ObjectId('5547d7c3deaeaa0452d12637'), u'phone': u'+92-544-711275'}\n",
      "{u'_id': ObjectId('5547d7c3deaeaa0452d12742'),\n",
      " u'phone': [u'+92-51-3592066', u'+92-308-3878787', u'+92-320-5000666']}\n",
      "{u'_id': ObjectId('5547d7c3deaeaa0452d1297b'), u'phone': u'+92-51-3510883'}\n",
      "{u'_id': ObjectId('5547d7c3deaeaa0452d1316f'), u'phone': u'+92-51-2821093'}\n",
      "{u'_id': ObjectId('5547d7c3deaeaa0452d13179'), u'phone': u'+92-51-84665323'}\n",
      "{u'_id': ObjectId('5547d7c3deaeaa0452d13cc4'), u'phone': u'+92-333-5120845'}\n",
      "{u'_id': ObjectId('5547d7c3deaeaa0452d13ccb'), u'phone': u'+92-51-4917311'}\n",
      "{u'_id': ObjectId('5547d7c3deaeaa0452d13ccf'), u'phone': u'+92-51-111722722'}\n",
      "{u'_id': ObjectId('5547d7c3deaeaa0452d13cd1'), u'phone': u'(051)9075100'}\n",
      "{u'_id': ObjectId('5547d7c3deaeaa0452d144f6'),\n",
      " u'phone': [u'+92-57-2612576',\n",
      "            u'+92-57-2602357',\n",
      "            u'+92-300-5529121',\n",
      "            u'+92-333-5534805']}\n",
      "{u'_id': ObjectId('5547d7c3deaeaa0452d14551'), u'phone': u'+92-992-383591'}\n"
     ]
    }
   ],
   "source": [
    "phones = db.islamabad.find({\"phone\" : {\"$exists\" : 1}}, {\"phone\" : 1})\n",
    "print_aggregation(phones,0)"
   ]
  },
  {
   "cell_type": "code",
   "execution_count": 50,
   "metadata": {
    "collapsed": false
   },
   "outputs": [
    {
     "name": "stdout",
     "output_type": "stream",
     "text": [
      "{u'_id': u'postcode',\n",
      " u'codes': [u'46600',\n",
      "            u'46060',\n",
      "            u'4600',\n",
      "            u'10530',\n",
      "            u'22010',\n",
      "            u'46000',\n",
      "            u'44000'],\n",
      " u'count': 60}\n"
     ]
    }
   ],
   "source": [
    "## listing unique postcodes in dataset, the postcodes of Rawalpindi(twin city of Islamabad), Attock and Abbotabad \n",
    "## are also present\n",
    "test = db.islamabad.aggregate([{\"$match\" : {\"address.postcode\": {\"$exists\" : 1}}},\n",
    "                              {\"$group\" : {\"_id\" : \"postcode\", \"codes\" : {\"$addToSet\" : \"$address.postcode\"}, \"count\" : {\"$sum\": 1}}}])\n",
    "print_aggregation(test,0)"
   ]
  },
  {
   "cell_type": "code",
   "execution_count": 51,
   "metadata": {
    "collapsed": false
   },
   "outputs": [],
   "source": [
    "selection = db.islamabad.find_one({\"address.postcode\" : \"4600\"})\n",
    "selection[\"address\"][\"postcode\"] = \"46000\"\n",
    "db.islamabad.save(selection)\n"
   ]
  },
  {
   "cell_type": "code",
   "execution_count": null,
   "metadata": {
    "collapsed": true
   },
   "outputs": [],
   "source": [
    "selectiodb.islamabad.find_one({\"address.postcode\" : \"4600\"})"
   ]
  },
  {
   "cell_type": "code",
   "execution_count": 55,
   "metadata": {
    "collapsed": false
   },
   "outputs": [
    {
     "name": "stdout",
     "output_type": "stream",
     "text": [
      "{u'_id': u'addresses',\n",
      " u'addr': [u'Street 1',\n",
      "           u'Cantt',\n",
      "           u'Islamabad Express Way',\n",
      "           u'Eastridge Road',\n",
      "           u'Siddiq-e-Akbar Street',\n",
      "           u'Tayyeba Street',\n",
      "           u'Street 17',\n",
      "           u'Circular Road',\n",
      "           u'Main Bazar Road',\n",
      "           u'Cantonment Plaza Road',\n",
      "           u'Club Road',\n",
      "           u'Street 5 Iqbal Road',\n",
      "           u'Nazim ud Din Road',\n",
      "           u'Police Station Street',\n",
      "           u'Devi Data Road',\n",
      "           u'Commerce College Road',\n",
      "           u'Sukho Gujar Khan Road',\n",
      "           u'Lane 8 A, Sector H',\n",
      "           u'Johar Road',\n",
      "           u'Asghar Mall Road',\n",
      "           u'Phimbal Road',\n",
      "           u'Park Road',\n",
      "           u'Muncipal Road',\n",
      "           u'Housing Scheme No.1',\n",
      "           u'GT Road',\n",
      "           u'Link',\n",
      "           u'Street 98',\n",
      "           u'Street 78',\n",
      "           u'Club Avenue',\n",
      "           u'Murree Road',\n",
      "           u'Street 13, Dhoke Kashmirian',\n",
      "           u'Lane-1',\n",
      "           u'Street 22',\n",
      "           u'College Road No. 1',\n",
      "           u'Street 10th Avenue',\n",
      "           u'Lane-4',\n",
      "           u'Lehtrar Road',\n",
      "           u'Mauve Area, G-7/1,',\n",
      "           u'Street 122, G-9/3',\n",
      "           u'Mandir Street',\n",
      "           u'Street 8-A, Garga Road',\n",
      "           u'Street 13',\n",
      "           u'Street 38',\n",
      "           u'Margalla Road, F-6/2',\n",
      "           u'Street 34 Margalla, F-6/3',\n",
      "           u'Street 57',\n",
      "           u'Masjid Road',\n",
      "           u'Khanna Road',\n",
      "           u'Street 15',\n",
      "           u'Street 1, G-9/3',\n",
      "           u'Gali 38',\n",
      "           u'Lalarukh Colony Road',\n",
      "           u'Agha Khan Road, F-6/3',\n",
      "           u'Shuhada-e-Hazara Chowk',\n",
      "           u'Capt Amir Shaheed Road',\n",
      "           u'Swabi-Jehangira Road',\n",
      "           u'Street 1, F-6/3',\n",
      "           u'Service Road',\n",
      "           u'Mardan - Swabi Road',\n",
      "           u'College Road, F-7',\n",
      "           u'Chakwal More Stop',\n",
      "           u'Ghazi kot Road',\n",
      "           u'Street 7',\n",
      "           u'Street 2 Iqbal Road',\n",
      "           u'Street 25, F-6/2',\n",
      "           u'I-8 markaz',\n",
      "           u'Street 19, F-6/2',\n",
      "           u'Ataturk Avenue, F-6/3',\n",
      "           u'Jinnah Road',\n",
      "           u'Street 43',\n",
      "           u'Tulsa Road',\n",
      "           u'Pakistan Sports Complex',\n",
      "           u'Attock Refinery Road',\n",
      "           u'Daulatala Road',\n",
      "           u'Street 55',\n",
      "           u'Lane-2',\n",
      "           u'Adiala Road',\n",
      "           u'Street 54, F-6/4',\n",
      "           u'Street 18, F-7/2',\n",
      "           u'Street 65',\n",
      "           u'Hospital Road',\n",
      "           u'Garga Road',\n",
      "           u'Lake View Park',\n",
      "           u'Grand Trunk Road',\n",
      "           u'Mandra Chakwal Road',\n",
      "           u'M-2 Near Islamabad Convention Centre',\n",
      "           u'Iqbal Road',\n",
      "           u'Street 61, F-6/3',\n",
      "           u'National Park Road',\n",
      "           u'Street 27, F-6/2',\n",
      "           u'Street 60, F-6/3',\n",
      "           u'Khadim Hussain Road',\n",
      "           u'Bank Road, Canning Road',\n",
      "           u'Street 24',\n",
      "           u'Street 40, F-10/4',\n",
      "           u'Street 18',\n",
      "           u'Street 14',\n",
      "           u'Rohtas Road',\n",
      "           u'Ramna',\n",
      "           u'Zero Point',\n",
      "           u'Bucha Service Road',\n",
      "           u'Street 26, F-6/2',\n",
      "           u'Street 18, F-6/2',\n",
      "           u'Ataturk Avenue, F-6/4',\n",
      "           u'Street 11, F-6/3',\n",
      "           u'Street 52, F-6/4',\n",
      "           u'Street 5',\n",
      "           u'Street 16, F-7',\n",
      "           u'Front of Margala Road',\n",
      "           u'Street 24, F-6/2',\n",
      "           u'Street 55A, F-6/4',\n",
      "           u'Madni_Colony',\n",
      "           u'Ibn-e-Sina Road, G-9/3',\n",
      "           u'Street 48, F-6/4',\n",
      "           u'Fazle-Haq Road',\n",
      "           u'Pineview Road',\n",
      "           u'Street 4, G-9/3',\n",
      "           u'Street 56, F-6/4',\n",
      "           u'Street 12, F-6/3',\n",
      "           u'Street 6',\n",
      "           u'Street 16',\n",
      "           u'Street 6, F-6/3',\n",
      "           u'Saddar Bazar',\n",
      "           u'Kashmir Highway',\n",
      "           u'Street 3, G-9/3',\n",
      "           u'Street 2, F-6/3',\n",
      "           u'Hill Road, F-6/2',\n",
      "           u'Street 62, F-6/3',\n",
      "           u'Haider Road',\n",
      "           u'Street 47, F-6/4',\n",
      "           u\"Risalat Ma'Ab Road\",\n",
      "           u'Street 6th road',\n",
      "           u'Airport Road',\n",
      "           u'Street 16, F-6/3',\n",
      "           u'Street 2, G-9/3',\n",
      "           u'Street 15, F-6/3',\n",
      "           u'School Road, F-6/3',\n",
      "           u'College Road',\n",
      "           u'Gulshan e Nayab',\n",
      "           u'Massy Gate',\n",
      "           u'Front of Gali 5',\n",
      "           u'Street 9, F-6/3',\n",
      "           u'F-7/1',\n",
      "           u'Street 5, F-6/3',\n",
      "           u'Madari Road',\n",
      "           u'Gali 96',\n",
      "           u'Jinnah Avenue',\n",
      "           u'Street 4, F-6/3',\n",
      "           u'School Road, F-6/2',\n",
      "           u'Sitara Market',\n",
      "           u'Margalla Road, F-6/3',\n",
      "           u'Street 8, F-6/3',\n",
      "           u'College Road, Street 16, F-7/2',\n",
      "           u'Hill Road, F-6/3',\n",
      "           u'Street 49, F-6/4',\n",
      "           u'Street 8',\n",
      "           u'Diplomatic Enclave',\n",
      "           u'Street 128, G-9/3',\n",
      "           u'Street 154',\n",
      "           u'Street 124, G-9/3',\n",
      "           u'Karakoram Highway',\n",
      "           u'Ibn-e-Sina Road',\n",
      "           u'Kallar Syedan - Thoha Road',\n",
      "           u'Street 124A, G-9/3',\n",
      "           u'Street 90, G-6/3',\n",
      "           u'Agha Khan Road, F-6/4',\n",
      "           u'Tipu Road',\n",
      "           u'Street 123, G-9/3',\n",
      "           u'Kaghan Road',\n",
      "           u'Railway Road S',\n",
      "           u'Allama Iqbal Road',\n",
      "           u'Tipu Sultan Road',\n",
      "           u'Street 7, F-6/3',\n",
      "           u'Street 27',\n",
      "           u'Street 10, F-6/3']}\n"
     ]
    }
   ],
   "source": [
    "street_add=db.islamabad.aggregate([{\"$match\" : {\"address.street\" : {\"$exists\" : 1}}},\n",
    "                           {\"$group\" : {\"_id\" : \"addresses\", \"addr\" : {\"$addToSet\" : \"$address.street\"}}}])\n",
    "print_aggregation(street_add,0)"
   ]
  },
  {
   "cell_type": "code",
   "execution_count": 56,
   "metadata": {
    "collapsed": false
   },
   "outputs": [
    {
     "data": {
      "text/plain": [
       "3"
      ]
     },
     "execution_count": 56,
     "metadata": {},
     "output_type": "execute_result"
    }
   ],
   "source": [
    "## counting postcode occurence\n",
    "db.islamabad.find({\"address.postcode\" : \"10530\"}).count()"
   ]
  },
  {
   "cell_type": "code",
   "execution_count": 57,
   "metadata": {
    "collapsed": false
   },
   "outputs": [
    {
     "name": "stdout",
     "output_type": "stream",
     "text": [
      "{u'_id': u'user', u'count': 356}\n"
     ]
    }
   ],
   "source": [
    "unique_users = db.islamabad.aggregate([{\"$group\" : {\"_id\" : \"user\", \"user\" : {\"$addToSet\" : \"$created.user\"}}},\n",
    "                                      {\"$unwind\" : \"$user\"},\n",
    "                                      {\"$group\" : {\"_id\" : \"user\", \"count\" : {\"$sum\" : 1}}}])\n",
    "print_aggregation(unique_users,0)\n"
   ]
  },
  {
   "cell_type": "code",
   "execution_count": 58,
   "metadata": {
    "collapsed": false
   },
   "outputs": [
    {
     "data": {
      "text/plain": [
       "314514"
      ]
     },
     "execution_count": 58,
     "metadata": {},
     "output_type": "execute_result"
    }
   ],
   "source": [
    "db.islamabad.find({\"type\" : \"node\"}).count()"
   ]
  },
  {
   "cell_type": "code",
   "execution_count": 59,
   "metadata": {
    "collapsed": false
   },
   "outputs": [
    {
     "data": {
      "text/plain": [
       "29540"
      ]
     },
     "execution_count": 59,
     "metadata": {},
     "output_type": "execute_result"
    }
   ],
   "source": [
    "db.islamabad.find({\"type\" : \"way\"}).count()"
   ]
  },
  {
   "cell_type": "code",
   "execution_count": 60,
   "metadata": {
    "collapsed": false
   },
   "outputs": [
    {
     "data": {
      "text/plain": [
       "27"
      ]
     },
     "execution_count": 60,
     "metadata": {},
     "output_type": "execute_result"
    }
   ],
   "source": [
    "db.islamabad.find({\"amenity\" : \"cafe\"}).count()"
   ]
  },
  {
   "cell_type": "code",
   "execution_count": 61,
   "metadata": {
    "collapsed": false
   },
   "outputs": [
    {
     "data": {
      "text/plain": [
       "311"
      ]
     },
     "execution_count": 61,
     "metadata": {},
     "output_type": "execute_result"
    }
   ],
   "source": [
    "db.islamabad.find({\"amenity\" : \"school\"}).count()"
   ]
  },
  {
   "cell_type": "code",
   "execution_count": 62,
   "metadata": {
    "collapsed": false
   },
   "outputs": [
    {
     "data": {
      "text/plain": [
       "0"
      ]
     },
     "execution_count": 62,
     "metadata": {},
     "output_type": "execute_result"
    }
   ],
   "source": [
    "db.islamabad.find({\"address.postcode\" : \"4600\"}).count()"
   ]
  },
  {
   "cell_type": "code",
   "execution_count": 35,
   "metadata": {
    "collapsed": true
   },
   "outputs": [],
   "source": [
    "db.islamabad.drop()"
   ]
  },
  {
   "cell_type": "code",
   "execution_count": null,
   "metadata": {
    "collapsed": true
   },
   "outputs": [],
   "source": []
  },
  {
   "cell_type": "markdown",
   "metadata": {},
   "source": []
  },
  {
   "cell_type": "code",
   "execution_count": null,
   "metadata": {
    "collapsed": true
   },
   "outputs": [],
   "source": []
  }
 ],
 "metadata": {
  "kernelspec": {
   "display_name": "Python 2",
   "language": "python",
   "name": "python2"
  },
  "language_info": {
   "codemirror_mode": {
    "name": "ipython",
    "version": 2
   },
   "file_extension": ".py",
   "mimetype": "text/x-python",
   "name": "python",
   "nbconvert_exporter": "python",
   "pygments_lexer": "ipython2",
   "version": "2.7.8"
  }
 },
 "nbformat": 4,
 "nbformat_minor": 0
}
